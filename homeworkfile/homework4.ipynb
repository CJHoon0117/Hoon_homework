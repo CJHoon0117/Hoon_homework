{
 "cells": [
  {
   "cell_type": "code",
   "execution_count": 19,
   "id": "c8290c30-f13d-4697-a7e6-944dc7e36b0a",
   "metadata": {},
   "outputs": [],
   "source": [
    "month=[' ','쌍', '쇠', '복', '돌', '팽', '육', '쌍', '개', '칠', '갑', '삼', '방']"
   ]
  },
  {
   "cell_type": "code",
   "execution_count": 20,
   "id": "d4253acf-e6bc-4ac2-91c5-ce98d62fe152",
   "metadata": {},
   "outputs": [],
   "source": [
    "day= [' ','봉', '구', '욕', '포', '똥', '삼', '식', '석', '놈', '님', '년', '돌', '단', '득', '방', '질', '장', '걸', '래', '룡', '동', '순', '자', '박', '창', '언', '것', '포', '만', '단', '국']"
   ]
  },
  {
   "cell_type": "code",
   "execution_count": 23,
   "id": "68dfa8bc-628b-4d99-8c82-2f7921d9ec00",
   "metadata": {},
   "outputs": [],
   "source": [
    "def get_my_chosun_name(family_name, month, day):\n",
    "    print(\"당신의 조선시대 이름은 %s%s%s 입니다\" %(family_name, month, day))"
   ]
  },
  {
   "cell_type": "code",
   "execution_count": 24,
   "id": "7fabb90b-b028-48ce-af7f-837d3c275178",
   "metadata": {},
   "outputs": [
    {
     "name": "stdout",
     "output_type": "stream",
     "text": [
      "당신의 조선시대 이름은 최쌍장 입니다\n"
     ]
    }
   ],
   "source": [
    "get_my_chosun_name(\"최\",month[1],day[17])"
   ]
  }
 ],
 "metadata": {
  "kernelspec": {
   "display_name": "Python 3 (ipykernel)",
   "language": "python",
   "name": "python3"
  },
  "language_info": {
   "codemirror_mode": {
    "name": "ipython",
    "version": 3
   },
   "file_extension": ".py",
   "mimetype": "text/x-python",
   "name": "python",
   "nbconvert_exporter": "python",
   "pygments_lexer": "ipython3",
   "version": "3.10.9"
  }
 },
 "nbformat": 4,
 "nbformat_minor": 5
}
