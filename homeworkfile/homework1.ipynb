{
 "cells": [
  {
   "cell_type": "code",
   "execution_count": 67,
   "id": "56000f7b-4185-4083-9cff-a0ed1c1cf854",
   "metadata": {},
   "outputs": [],
   "source": [
    "catalog = []\n",
    "catalog.append(\"Lovely Loveseat\")\n",
    "lovely_loveseat_description = \"Lovely Loveseat. Tufted polyester blend on wood. 32 inches high x 40 inches wide x 30 inches deep. Red or white. \"\n"
   ]
  },
  {
   "cell_type": "code",
   "execution_count": 52,
   "id": "bda721db-30c0-4812-8264-0392f33741d7",
   "metadata": {},
   "outputs": [],
   "source": [
    "lovely_loveseat_price = 254.00"
   ]
  },
  {
   "cell_type": "code",
   "execution_count": 53,
   "id": "6a50896e-b4f3-4873-98cf-351d1c00caf5",
   "metadata": {},
   "outputs": [],
   "source": [
    "catalog.append(\"stylish Settee.\")\n",
    "stylish_Settee =\"Stylish Settee. Faux leather on birch. 29.50 inches high x 54.75 inches wide x 28 inches deep. Black.\"\n"
   ]
  },
  {
   "cell_type": "code",
   "execution_count": 54,
   "id": "8308586d-2c1d-4271-9d12-9d1d907a993d",
   "metadata": {},
   "outputs": [],
   "source": [
    "stylish_settee_price = 180.50"
   ]
  },
  {
   "cell_type": "code",
   "execution_count": 55,
   "id": "7c44f469-8211-43ad-b2bf-4ef6cc1ae3b3",
   "metadata": {},
   "outputs": [
    {
     "name": "stdout",
     "output_type": "stream",
     "text": [
      "['Lovely Loveseat', 'stylish Settee.', 'Luxurious Lamp']\n",
      "Luxurious Lamp. Glass and iron. 36 inches tall. Brown with cream shade.\n"
     ]
    }
   ],
   "source": [
    "catalog.append(\"Luxurious Lamp\")\n",
    "Luxurious_Lamp_description=\"Luxurious Lamp. Glass and iron. 36 inches tall. Brown with cream shade.\"\n",
    "print(catalog)\n",
    "print(Luxurious_Lamp_description)"
   ]
  },
  {
   "cell_type": "code",
   "execution_count": 56,
   "id": "28a8688f-79e9-4490-98b2-601437f6e535",
   "metadata": {},
   "outputs": [],
   "source": [
    "luxurious_lamp_price = 52.25"
   ]
  },
  {
   "cell_type": "code",
   "execution_count": 57,
   "id": "797ce583-d7d8-4e23-aeb2-6bcb56809d10",
   "metadata": {},
   "outputs": [],
   "source": [
    "sales_tax =0.088"
   ]
  },
  {
   "cell_type": "code",
   "execution_count": 58,
   "id": "bd2d29f9-83b1-4f84-a566-fe1b82f14c15",
   "metadata": {},
   "outputs": [],
   "source": [
    "customer_one_total = 0"
   ]
  },
  {
   "cell_type": "code",
   "execution_count": 59,
   "id": "64c71ab5-0ead-4816-af55-517777fa217f",
   "metadata": {},
   "outputs": [],
   "source": [
    "customer_one_itemization =\"\""
   ]
  },
  {
   "cell_type": "code",
   "execution_count": 60,
   "id": "ba73f72e-f5df-4a9f-84d5-db2b1ac1d98c",
   "metadata": {},
   "outputs": [],
   "source": [
    "customer_one_total += lovely_loveseat_price"
   ]
  },
  {
   "cell_type": "code",
   "execution_count": 61,
   "id": "263a4916-be1b-4489-abb7-6328c8a9cb40",
   "metadata": {},
   "outputs": [],
   "source": [
    "customer_one_itemization += lovely_loveseat_description"
   ]
  },
  {
   "cell_type": "code",
   "execution_count": 62,
   "id": "258512af-d55d-44f1-b52d-4c97cb8ab4df",
   "metadata": {},
   "outputs": [],
   "source": [
    "customer_one_total += luxurious_lamp_price"
   ]
  },
  {
   "cell_type": "code",
   "execution_count": 63,
   "id": "d8db9e43-ad44-4201-93a2-1af92d87f8d6",
   "metadata": {},
   "outputs": [],
   "source": [
    "customer_one_itemization += Luxurious_Lamp_description"
   ]
  },
  {
   "cell_type": "code",
   "execution_count": 64,
   "id": "98ccd075-3ffb-426e-a1b3-77d03f1c3c7e",
   "metadata": {},
   "outputs": [],
   "source": [
    "customer_one_tax = customer_one_total * sales_tax"
   ]
  },
  {
   "cell_type": "code",
   "execution_count": 65,
   "id": "9ba27b5c-7abb-4baf-8040-fe62d08b375a",
   "metadata": {},
   "outputs": [],
   "source": [
    "customer_one_total += customer_one_tax"
   ]
  },
  {
   "cell_type": "code",
   "execution_count": 68,
   "id": "841fb506-4f7c-41eb-acb2-0b17fc7f6995",
   "metadata": {},
   "outputs": [
    {
     "name": "stdout",
     "output_type": "stream",
     "text": [
      "Customer One Items : \n",
      "Lovely Loveseat. Tufted polyester blend on wood. 32 inches high x 40 inches wide x 30 inches deep. Red or white.Luxurious Lamp. Glass and iron. 36 inches tall. Brown with cream shade.\n",
      "Customer One Total :\n",
      "333.2\n"
     ]
    }
   ],
   "source": [
    "print(\"Customer One Items : \")\n",
    "print(customer_one_itemization)\n",
    "print(\"Customer One Total :\")\n",
    "print(customer_one_total)"
   ]
  }
 ],
 "metadata": {
  "kernelspec": {
   "display_name": "Python 3 (ipykernel)",
   "language": "python",
   "name": "python3"
  },
  "language_info": {
   "codemirror_mode": {
    "name": "ipython",
    "version": 3
   },
   "file_extension": ".py",
   "mimetype": "text/x-python",
   "name": "python",
   "nbconvert_exporter": "python",
   "pygments_lexer": "ipython3",
   "version": "3.10.9"
  }
 },
 "nbformat": 4,
 "nbformat_minor": 5
}
