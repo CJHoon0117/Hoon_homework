{
 "cells": [
  {
   "cell_type": "code",
   "execution_count": 39,
   "id": "8022fc33-e7f3-4c93-8152-122fa9681605",
   "metadata": {},
   "outputs": [],
   "source": [
    "subjects_lst=[\"physics\",\"calculus\",\"peotry\",\"history\"]"
   ]
  },
  {
   "cell_type": "code",
   "execution_count": 40,
   "id": "4a0c32c5-a2d2-4dc3-86b2-d4c4a53c500a",
   "metadata": {},
   "outputs": [],
   "source": [
    "grades_lst=[98,97,85,88]"
   ]
  },
  {
   "cell_type": "code",
   "execution_count": 41,
   "id": "6ce26a2d-b3a5-4a14-b222-ead14ff66cf0",
   "metadata": {},
   "outputs": [],
   "source": [
    "gradebook_lst = [[\"physics\", 98],[\"calculus\", 97],[\"poetry\", 85],[\"history\", 88]]"
   ]
  },
  {
   "cell_type": "code",
   "execution_count": 42,
   "id": "be2531bb-7c8e-4da3-94d0-6a9883c0173e",
   "metadata": {},
   "outputs": [
    {
     "name": "stdout",
     "output_type": "stream",
     "text": [
      "[['physics', 98], ['calculus', 97], ['poetry', 85], ['history', 88]]\n"
     ]
    }
   ],
   "source": [
    "print(gradebook_lst)"
   ]
  },
  {
   "cell_type": "code",
   "execution_count": 43,
   "id": "ffcddde1-65eb-4210-88c2-dbc89fc07ebb",
   "metadata": {},
   "outputs": [],
   "source": [
    "gradebook_lst.append([\"computer science\",100])"
   ]
  },
  {
   "cell_type": "code",
   "execution_count": 44,
   "id": "e1477ba2-4373-4ee4-bbb6-d32813a330bb",
   "metadata": {},
   "outputs": [],
   "source": [
    "gradebook_lst.append([\"visual arts\", 93])"
   ]
  },
  {
   "cell_type": "code",
   "execution_count": 45,
   "id": "5036b639-7ab1-4e68-8be1-e623f429ab46",
   "metadata": {},
   "outputs": [
    {
     "name": "stdout",
     "output_type": "stream",
     "text": [
      "[['physics', 98], ['calculus', 97], ['poetry', 85], ['history', 88], ['computer science', 100], ['visual arts', 93]]\n"
     ]
    }
   ],
   "source": [
    "print(gradebook_lst)"
   ]
  },
  {
   "cell_type": "code",
   "execution_count": 46,
   "id": "e39b907f-d769-4c17-8e36-5f7d6c2c64d7",
   "metadata": {},
   "outputs": [],
   "source": [
    "gradebook_lst[5][1] += 5"
   ]
  },
  {
   "cell_type": "code",
   "execution_count": 47,
   "id": "bf61a03c-87f5-450c-b0fa-e44deabd4f5c",
   "metadata": {},
   "outputs": [
    {
     "name": "stdout",
     "output_type": "stream",
     "text": [
      "[['physics', 98], ['calculus', 97], ['poetry', 85], ['history', 88], ['computer science', 100], ['visual arts', 98]]\n"
     ]
    }
   ],
   "source": [
    "print(gradebook_lst)"
   ]
  },
  {
   "cell_type": "code",
   "execution_count": 48,
   "id": "351cb31c-beea-400c-bbd9-ecf74312ca1b",
   "metadata": {},
   "outputs": [],
   "source": [
    "gradebook_lst.remove(['poetry', 85])"
   ]
  },
  {
   "cell_type": "code",
   "execution_count": 49,
   "id": "27ac8aef-6235-4883-a9a7-f158ce41502f",
   "metadata": {},
   "outputs": [],
   "source": [
    "gradebook_lst.append(['poetry', 'PASS'])"
   ]
  },
  {
   "cell_type": "code",
   "execution_count": 50,
   "id": "845eafb8-c059-42e1-926e-d4899fe0db53",
   "metadata": {},
   "outputs": [
    {
     "name": "stdout",
     "output_type": "stream",
     "text": [
      "[['physics', 98], ['calculus', 97], ['history', 88], ['computer science', 100], ['visual arts', 98], ['poetry', 'PASS']]\n"
     ]
    }
   ],
   "source": [
    "print(gradebook_lst)"
   ]
  },
  {
   "cell_type": "code",
   "execution_count": 38,
   "id": "bdcc2782-380c-4797-bd37-cfc77ba85c7b",
   "metadata": {},
   "outputs": [],
   "source": [
    "last_semester_gradebook = [[\"politics\", 80], [\"latin\", 96], [\"dance\", 97], [\"architecture\", 65]]\n"
   ]
  },
  {
   "cell_type": "code",
   "execution_count": 53,
   "id": "ac54bb96-995b-456d-8802-8d63f0165ad9",
   "metadata": {},
   "outputs": [],
   "source": [
    "full_gradebook= last_semester_gradebook + gradebook_lst "
   ]
  },
  {
   "cell_type": "code",
   "execution_count": 54,
   "id": "585291da-b6d9-4457-b91a-2e802f1a6748",
   "metadata": {},
   "outputs": [
    {
     "name": "stdout",
     "output_type": "stream",
     "text": [
      "[['politics', 80], ['latin', 96], ['dance', 97], ['architecture', 65], ['physics', 98], ['calculus', 97], ['history', 88], ['computer science', 100], ['visual arts', 98], ['poetry', 'PASS']]\n"
     ]
    }
   ],
   "source": [
    "print(full_gradebook)"
   ]
  }
 ],
 "metadata": {
  "kernelspec": {
   "display_name": "Python 3 (ipykernel)",
   "language": "python",
   "name": "python3"
  },
  "language_info": {
   "codemirror_mode": {
    "name": "ipython",
    "version": 3
   },
   "file_extension": ".py",
   "mimetype": "text/x-python",
   "name": "python",
   "nbconvert_exporter": "python",
   "pygments_lexer": "ipython3",
   "version": "3.10.9"
  }
 },
 "nbformat": 4,
 "nbformat_minor": 5
}
