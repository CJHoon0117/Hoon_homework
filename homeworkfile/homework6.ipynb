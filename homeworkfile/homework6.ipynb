{
 "cells": [
  {
   "cell_type": "code",
   "execution_count": 91,
   "id": "0bd1b927-56d9-4360-9485-3c3080e4a7e0",
   "metadata": {},
   "outputs": [],
   "source": [
    "import numpy as np  \n",
    "import matplotlib.pyplot as plt  \n",
    "from mpl_toolkits.axes_grid1 import make_axes_locatable"
   ]
  },
  {
   "cell_type": "code",
   "execution_count": 92,
   "id": "a5d177f3-596f-45e2-90bf-134fcc99ae8b",
   "metadata": {},
   "outputs": [
    {
     "data": {
      "text/plain": [
       "<contextlib.ExitStack at 0x1ab4626d300>"
      ]
     },
     "execution_count": 92,
     "metadata": {},
     "output_type": "execute_result"
    }
   ],
   "source": [
    "%matplotlib qt5\n",
    "%config InlineBackend.figure_format = 'svg'\n",
    "\n",
    "plt.rcParams['figure.figsize'] = [12, 5]\n",
    "plt.rcParams['font.size'] = 13\n",
    "plt.ion()"
   ]
  },
  {
   "cell_type": "code",
   "execution_count": 96,
   "id": "5ee10613-ab3c-4f4c-acf9-a8c656bd9619",
   "metadata": {},
   "outputs": [],
   "source": [
    "def f(z):\n",
    "    return np.square(z) - 1 "
   ]
  },
  {
   "cell_type": "code",
   "execution_count": 97,
   "id": "233b7dd6-9acb-4090-8e4a-894c400b8616",
   "metadata": {},
   "outputs": [
    {
     "data": {
      "text/plain": [
       "-1"
      ]
     },
     "execution_count": 97,
     "metadata": {},
     "output_type": "execute_result"
    }
   ],
   "source": [
    "f(0)"
   ]
  },
  {
   "cell_type": "code",
   "execution_count": 98,
   "id": "1b47e4ea-52d5-40d4-81f0-97a4089535dc",
   "metadata": {},
   "outputs": [
    {
     "data": {
      "text/plain": [
       "array([15.  +0.j , -0.04-0.4j,  1.56+0.j ])"
      ]
     },
     "execution_count": 98,
     "metadata": {},
     "output_type": "execute_result"
    }
   ],
   "source": [
    "z = [4, 1-0.2j, 1.6]\n",
    "f(z)"
   ]
  },
  {
   "cell_type": "code",
   "execution_count": 99,
   "id": "aeb84427-2a0d-45da-92b5-c092234f8e5c",
   "metadata": {},
   "outputs": [],
   "source": [
    "# [+] np.linspace()를 이용하여 x축, y축 값 집합을 생성\n",
    "x, y = np.meshgrid(np.linspace(-10,10,20), np.linspace(-10,10,20))"
   ]
  },
  {
   "cell_type": "code",
   "execution_count": 100,
   "id": "d8a5cce3-aa2b-4d9f-b9b4-2f5518cce74e",
   "metadata": {},
   "outputs": [],
   "source": [
    "mesh = x+y*1j"
   ]
  },
  {
   "cell_type": "code",
   "execution_count": 101,
   "id": "844344d7-1ac8-4eb4-a60a-b696df909710",
   "metadata": {},
   "outputs": [],
   "source": [
    "output= np.abs(f(mesh))"
   ]
  },
  {
   "cell_type": "code",
   "execution_count": 102,
   "id": "fbe200b4-40c5-48d4-b1e2-7c0a2c505983",
   "metadata": {},
   "outputs": [],
   "source": [
    "fig = plt.figure()\n",
    "ax = plt.axes(projection='3d')\n",
    "\n",
    "ax.scatter(x, y, output, alpha=0.2)\n",
    "\n",
    "ax.set_xlabel('Real axis')      # 실수부\n",
    "ax.set_ylabel('Imaginary axis') # 허수부\n",
    "ax.set_zlabel('Absolute value') # 함수값의 절대값\n",
    "ax.set_title('One Iteration: $f(z) = z^2 - 1$');"
   ]
  },
  {
   "cell_type": "code",
   "execution_count": 35,
   "id": "57dff57b-a3cf-4596-a966-67fdbd43fc3f",
   "metadata": {},
   "outputs": [],
   "source": [
    "output = np.abs(f(f(mesh)))\n",
    "\n",
    "ax = plt.axes(projection='3d')\n",
    "\n",
    "ax.scatter(x, y, output, alpha=0.2)\n",
    "\n",
    "ax.set_xlabel('Real axis')\n",
    "ax.set_ylabel('Imaginary axis')\n",
    "ax.set_zlabel('Absolute value')\n",
    "ax.set_title('Two Iterations: $ f(z) = z^2 - 1$');\n"
   ]
  },
  {
   "cell_type": "code",
   "execution_count": 103,
   "id": "072d0e79-62cc-4dd8-ba10-006b67750006",
   "metadata": {},
   "outputs": [],
   "source": [
    "selected_values = np.array([0.4 + 0.4j, 0.41 + 0.4j, 0.4 + 0.41j])\n",
    "num_iter = 9\n",
    "\n",
    "outputs = np.zeros(\n",
    "    (num_iter+1, selected_values.shape[0]),  # 10X3 Zero 배열 생성\n",
    "    dtype=complex  # 데이터 타입: 복소수\n",
    ")\n",
    "outputs[0] = selected_values   # 함수 초기 조건\n",
    "\n",
    "for i in range(num_iter):\n",
    "    outputs[i+1] = f(outputs[i])  # 10번 함수 반복하는 동안 각 결과를 저장\n",
    "\n",
    "fig, axes = plt.subplots(1, selected_values.shape[0], figsize=(16, 6))\n",
    "axes[1].set_xlabel('Real axis')\n",
    "axes[0].set_ylabel('Imaginary axis')\n",
    "\n",
    "for ax, data in zip(axes, outputs.T):\n",
    "    cycle = ax.scatter(\n",
    "        data.real,  # 실수부\n",
    "        data.imag,  # 허수부\n",
    "        c=range(data.shape[0]), \n",
    "        alpha=0.6\n",
    "    )\n",
    "    ax.set_title(f'Mapping of iterations on {data[0]}')\n",
    "\n",
    "fig.colorbar(cycle, ax=axes, location='bottom', label='Iteration');"
   ]
  },
  {
   "cell_type": "code",
   "execution_count": 88,
   "id": "8c5cbb69-eb07-4a0c-82dd-fce591fa7192",
   "metadata": {},
   "outputs": [],
   "source": [
    "def divergence_rate(mesh, num_iter=10, radius=2):\n",
    "    z = mesh.copy()\n",
    "    diverge_len = np.zeros(mesh.shape)\n",
    "\n",
    "    for i in range(num_iter):\n",
    "        # 1. Boolean 배열 마스크 생성\n",
    "        conv_mask = np.abs(z) < radius\n",
    "\n",
    "        # 2. 해당 값들에 대한 diverge_len 값 증가\n",
    "        diverge_len[conv_mask] += 1\n",
    "        # 3. 해당 값들에 대해 함수 적용\n",
    "        z = f(z)\n",
    "\n",
    "    return diverge_len"
   ]
  },
  {
   "cell_type": "code",
   "execution_count": 104,
   "id": "ffa1831f-a786-488b-8fbe-66df4eb659a2",
   "metadata": {},
   "outputs": [],
   "source": [
    "def divergence_rate(mesh, num_iter=10, radius=2):\n",
    "    z = mesh.copy()\n",
    "    diverge_len = np.zeros(mesh.shape)\n",
    "\n",
    "    for i in range(num_iter):\n",
    "        # 1. Boolean 배열 마스크 생성\n",
    "        conv_mask = np.abs(z) < radius\n",
    "\n",
    "        # 2. 해당 값들에 대한 diverge_len 값 증가\n",
    "        diverge_len[conv_mask] += 1\n",
    "        \n",
    "        # 3. 해당 값들에 대해 함수 적용\n",
    "        z = f(z)  # f(z)는 주어진 함수로 복소수 집합 각각의 값에 대해 수행되어야 합니다.\n",
    "\n",
    "    return diverge_len"
   ]
  },
  {
   "cell_type": "code",
   "execution_count": 105,
   "id": "27ca692b-fe85-4d45-a562-4eefceecd84c",
   "metadata": {},
   "outputs": [
    {
     "name": "stderr",
     "output_type": "stream",
     "text": [
      "C:\\Users\\Administrator\\AppData\\Local\\Temp\\ipykernel_4644\\1215792276.py:2: RuntimeWarning: overflow encountered in square\n",
      "  return np.square(z) - 1\n",
      "C:\\Users\\Administrator\\AppData\\Local\\Temp\\ipykernel_4644\\1215792276.py:2: RuntimeWarning: invalid value encountered in square\n",
      "  return np.square(z) - 1\n"
     ]
    }
   ],
   "source": [
    "x, y = np.meshgrid(np.linspace(-2, 2, 400), np.linspace(-2, 2, 400))\n",
    "mesh = x + (1j * y)\n",
    "\n",
    "output = divergence_rate(mesh)\n",
    "\n",
    "fig = plt.figure(figsize=(5, 5))\n",
    "ax = plt.axes()\n",
    "\n",
    "ax.set_title('$f(z) = z^2-1$')\n",
    "ax.set_xlabel('Real axis')\n",
    "ax.set_ylabel('Imaginary axis')\n",
    "\n",
    "im = ax.imshow(output, extent=[-2, 2, -2, 2])\n",
    "divider = make_axes_locatable(ax)\n",
    "cax = divider.append_axes('right', size='5%', pad=0.1)\n",
    "plt.colorbar(im, cax=cax, label='Number of iterations');"
   ]
  },
  {
   "cell_type": "code",
   "execution_count": null,
   "id": "af455cf4-910f-4c0f-aaa9-a05d9b4042ed",
   "metadata": {},
   "outputs": [],
   "source": []
  },
  {
   "cell_type": "code",
   "execution_count": null,
   "id": "0a2ce6f2-fc7c-4b77-946d-2dc163276a8d",
   "metadata": {},
   "outputs": [],
   "source": []
  }
 ],
 "metadata": {
  "kernelspec": {
   "display_name": "Python 3 (ipykernel)",
   "language": "python",
   "name": "python3"
  },
  "language_info": {
   "codemirror_mode": {
    "name": "ipython",
    "version": 3
   },
   "file_extension": ".py",
   "mimetype": "text/x-python",
   "name": "python",
   "nbconvert_exporter": "python",
   "pygments_lexer": "ipython3",
   "version": "3.10.9"
  }
 },
 "nbformat": 4,
 "nbformat_minor": 5
}
