{
 "cells": [
  {
   "cell_type": "code",
   "execution_count": 74,
   "id": "f2b0376f-44d4-4e71-8dcc-ff41a6659998",
   "metadata": {},
   "outputs": [],
   "source": [
    "hairstyles = [\"bouffant\", \"pixie\", \"dreadlocks\", \"crew\", \"bowl\", \"bob\", \"mohawk\", \"flattop\"]"
   ]
  },
  {
   "cell_type": "code",
   "execution_count": 75,
   "id": "5e6ad5a4-6b2d-4abb-9007-2d05454d2e6c",
   "metadata": {},
   "outputs": [],
   "source": [
    "prices = [30, 25, 40, 20, 20, 35, 50, 35]"
   ]
  },
  {
   "cell_type": "code",
   "execution_count": 76,
   "id": "626cfbe5-7b32-4f71-8550-d3bde79418b2",
   "metadata": {},
   "outputs": [],
   "source": [
    "last_week = [2, 3, 5, 8, 4, 4, 6, 2]"
   ]
  },
  {
   "cell_type": "code",
   "execution_count": 77,
   "id": "a2a1fdf4-6861-4280-8b97-730eaecefe43",
   "metadata": {},
   "outputs": [
    {
     "name": "stdout",
     "output_type": "stream",
     "text": [
      "255 0\n"
     ]
    }
   ],
   "source": [
    "sum(prices)\n",
    "total_price=0\n",
    "print(sum(prices), total_price)"
   ]
  },
  {
   "cell_type": "code",
   "execution_count": 78,
   "id": "ff69b119-17bc-4517-a0a3-be991d1e6514",
   "metadata": {},
   "outputs": [
    {
     "name": "stdout",
     "output_type": "stream",
     "text": [
      "255\n"
     ]
    }
   ],
   "source": [
    "for i in range(8):\n",
    "    total_price+= prices[i]\n",
    "print(total_price)"
   ]
  },
  {
   "cell_type": "code",
   "execution_count": 79,
   "id": "3c1d1e12-e2ec-45dc-a8ce-fb7ef1b90171",
   "metadata": {},
   "outputs": [],
   "source": [
    "average_price = 0\n",
    "average_price=total_price / len(prices)"
   ]
  },
  {
   "cell_type": "code",
   "execution_count": 80,
   "id": "b019b285-dba2-49cf-98e5-0c8957297e04",
   "metadata": {},
   "outputs": [
    {
     "name": "stdout",
     "output_type": "stream",
     "text": [
      "31.875\n"
     ]
    }
   ],
   "source": [
    "print(average_price)"
   ]
  },
  {
   "cell_type": "code",
   "execution_count": 81,
   "id": "d20d52e3-6f07-47ab-b76a-5e7af7d541c7",
   "metadata": {},
   "outputs": [],
   "source": [
    "for i in range(8):\n",
    "    new_prices[i] = prices[i] - 5\n",
    "    "
   ]
  },
  {
   "cell_type": "code",
   "execution_count": 82,
   "id": "5acc1d47-ac20-47f4-b989-7fba0fab7ae6",
   "metadata": {},
   "outputs": [
    {
     "name": "stdout",
     "output_type": "stream",
     "text": [
      "[25, 20, 35, 15, 15, 30, 45, 30]\n"
     ]
    }
   ],
   "source": [
    "print(new_prices)"
   ]
  },
  {
   "cell_type": "code",
   "execution_count": 83,
   "id": "ca0192c0-9299-48da-917f-a1d1cf8dd7ae",
   "metadata": {},
   "outputs": [],
   "source": [
    "total_revenue = 0"
   ]
  },
  {
   "cell_type": "code",
   "execution_count": 84,
   "id": "e4209555-8c43-48af-a3c8-ec29b4f0d4fb",
   "metadata": {},
   "outputs": [],
   "source": [
    "for i in range(len(hairstyles)):\n",
    "    revenue=prices[i] * last_week[i]\n",
    "    total_revenue+=revenue\n",
    "    "
   ]
  },
  {
   "cell_type": "code",
   "execution_count": 85,
   "id": "1de884ca-2796-412c-afcf-dd088c0271bd",
   "metadata": {},
   "outputs": [
    {
     "name": "stdout",
     "output_type": "stream",
     "text": [
      "1085\n"
     ]
    }
   ],
   "source": [
    "print(total_revenue)"
   ]
  },
  {
   "cell_type": "code",
   "execution_count": 86,
   "id": "b2417e44-9beb-446a-bd3d-f55279786d06",
   "metadata": {},
   "outputs": [
    {
     "name": "stdout",
     "output_type": "stream",
     "text": [
      "155.0\n"
     ]
    }
   ],
   "source": [
    "average_daily_revenue = total_revenue / 7\n",
    "print(average_daily_revenue)"
   ]
  },
  {
   "cell_type": "code",
   "execution_count": 88,
   "id": "160df95c-c363-41cf-84ba-a864c3e73338",
   "metadata": {},
   "outputs": [
    {
     "name": "stdout",
     "output_type": "stream",
     "text": [
      "['bouffant', 'pixie', 'crew', 'bowl']\n"
     ]
    }
   ],
   "source": [
    "cuts_under_30=[hairstyles[i] for i in range(len(new_prices)) if  new_prices[i] <30 ] \n",
    "print(cuts_under_30)\n",
    "    "
   ]
  }
 ],
 "metadata": {
  "kernelspec": {
   "display_name": "Python 3 (ipykernel)",
   "language": "python",
   "name": "python3"
  },
  "language_info": {
   "codemirror_mode": {
    "name": "ipython",
    "version": 3
   },
   "file_extension": ".py",
   "mimetype": "text/x-python",
   "name": "python",
   "nbconvert_exporter": "python",
   "pygments_lexer": "ipython3",
   "version": "3.10.9"
  }
 },
 "nbformat": 4,
 "nbformat_minor": 5
}
